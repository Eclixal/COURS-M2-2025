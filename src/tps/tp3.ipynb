{
 "cells": [
  {
   "cell_type": "markdown",
   "id": "b2ac4dd2",
   "metadata": {},
   "source": [
    "# TP M2 MIASHS - Systèmes de recommandation, CNN et Regex\n",
    "## Auteur : Alexandre JOUSSET\n",
    "### Date : 08/10/2025\n",
    "\n",
    "Complétez les cellules `TODO`."
   ]
  },
  {
   "cell_type": "markdown",
   "id": "6a207ba4",
   "metadata": {},
   "source": [
    "## Partie A : Recommandation Hybride\n",
    "Objectif : Créer un système de recommandation combinant filtrage collaboratif et contenu."
   ]
  },
  {
   "cell_type": "code",
   "execution_count": null,
   "id": "46788c50",
   "metadata": {},
   "outputs": [],
   "source": []
  },
  {
   "cell_type": "code",
   "execution_count": null,
   "id": "a056b61a",
   "metadata": {},
   "outputs": [],
   "source": [
    "# 1. Import des bibliothèques\n",
    "import pandas as pd\n",
    "import numpy as np\n",
    "from surprise import Dataset, Reader, KNNBasic\n",
    "from sklearn.feature_extraction.text import TfidfVectorizer\n",
    "from sklearn.metrics.pairwise import cosine_similarity"
   ]
  },
  {
   "cell_type": "markdown",
   "id": "95efdce5",
   "metadata": {},
   "source": [
    "### Chargement des données MovieLens\n",
    "Chargez `u.data` et `u.item` et créez `df_ratings` et `movies_df`."
   ]
  },
  {
   "cell_type": "code",
   "execution_count": null,
   "id": "fa9f3e53",
   "metadata": {},
   "outputs": [],
   "source": [
    "# TODO : Charger df_ratings et movies_df"
   ]
  },
  {
   "cell_type": "markdown",
   "id": "03607490",
   "metadata": {},
   "source": [
    "### Filtrage collaboratif\n",
    "Créer un modèle user-based ou item-based avec Surprise. Séparer train/test et calculer RMSE/MAE."
   ]
  },
  {
   "cell_type": "code",
   "execution_count": null,
   "id": "dcc09160",
   "metadata": {},
   "outputs": [],
   "source": [
    "# TODO : Modèle collaboratif avec Surprise"
   ]
  },
  {
   "cell_type": "markdown",
   "id": "a9814e56",
   "metadata": {},
   "source": [
    "### Filtrage basé sur le contenu\n",
    "Créer une représentation TF-IDF des genres et calculer la similarité avec le profil utilisateur."
   ]
  },
  {
   "cell_type": "code",
   "execution_count": null,
   "id": "0462a026",
   "metadata": {},
   "outputs": [],
   "source": [
    "# TODO : Filtrage basé sur le contenu"
   ]
  },
  {
   "cell_type": "markdown",
   "id": "c5ce5e2e",
   "metadata": {},
   "source": [
    "### Recommandation hybride\n",
    "Combiner les scores collaboratif et contenu. Afficher les 5 meilleures recommandations."
   ]
  },
  {
   "cell_type": "code",
   "execution_count": null,
   "id": "52d047e9",
   "metadata": {},
   "outputs": [],
   "source": [
    "# TODO : Recommandation hybride"
   ]
  },
  {
   "cell_type": "markdown",
   "id": "cbc3fef0",
   "metadata": {},
   "source": [
    "## Partie B : Classification CNN (Fashion-MNIST)\n",
    "Objectif : Classer les images du jeu Fashion-MNIST avec un CNN simple."
   ]
  },
  {
   "cell_type": "code",
   "execution_count": null,
   "id": "f15d1c55",
   "metadata": {},
   "outputs": [],
   "source": [
    "import tensorflow as tf\n",
    "from tensorflow.keras import layers, models\n",
    "import matplotlib.pyplot as plt"
   ]
  },
  {
   "cell_type": "markdown",
   "id": "6a47b075",
   "metadata": {},
   "source": [
    "### Chargement et préparation des données\n",
    "Charger Fashion-MNIST, normaliser les images et reshaper si nécessaire pour CNN."
   ]
  },
  {
   "cell_type": "code",
   "execution_count": null,
   "id": "b5e75e2c",
   "metadata": {},
   "outputs": [],
   "source": [
    "# TODO : Charger et préparer les données Fashion-MNIST"
   ]
  },
  {
   "cell_type": "markdown",
   "id": "b394c5db",
   "metadata": {},
   "source": [
    "### Création du modèle CNN\n",
    "Définir un CNN simple : Conv -> Pool -> Dense."
   ]
  },
  {
   "cell_type": "code",
   "execution_count": null,
   "id": "33660717",
   "metadata": {},
   "outputs": [],
   "source": [
    "# TODO : Créer le modèle CNN"
   ]
  },
  {
   "cell_type": "markdown",
   "id": "418cae28",
   "metadata": {},
   "source": [
    "### Compilation et entraînement\n",
    "Compiler le modèle et entraîner avec validation_split."
   ]
  },
  {
   "cell_type": "code",
   "execution_count": null,
   "id": "c4e72e7a",
   "metadata": {},
   "outputs": [],
   "source": [
    "# TODO : Compiler et entraîner le modèle"
   ]
  },
  {
   "cell_type": "markdown",
   "id": "326d8f6c",
   "metadata": {},
   "source": [
    "### Évaluation\n",
    "Évaluer accuracy et afficher quelques prédictions correctes/incorrectes."
   ]
  },
  {
   "cell_type": "code",
   "execution_count": null,
   "id": "cf521fb0",
   "metadata": {},
   "outputs": [],
   "source": [
    "# TODO : Évaluation du modèle"
   ]
  },
  {
   "cell_type": "markdown",
   "id": "30b4de3a",
   "metadata": {},
   "source": [
    "## Partie C : Expressions Régulières\n",
    "Objectif : Extraire emails, téléphones et URLs depuis un fichier texte."
   ]
  },
  {
   "cell_type": "code",
   "execution_count": null,
   "id": "b789dcf3",
   "metadata": {},
   "outputs": [],
   "source": [
    "import re"
   ]
  },
  {
   "cell_type": "markdown",
   "id": "aab47f34",
   "metadata": {},
   "source": [
    "### Chargement du fichier texte\n",
    "Créer `sample_text.txt` avec des exemples d'emails, téléphones et URLs."
   ]
  },
  {
   "cell_type": "code",
   "execution_count": null,
   "id": "7f3c64a8",
   "metadata": {},
   "outputs": [],
   "source": [
    "# TODO : Charger le fichier texte"
   ]
  },
  {
   "cell_type": "markdown",
   "id": "c45b1fb9",
   "metadata": {},
   "source": [
    "### Extraction avec Regex\n",
    "Écrire des regex pour emails, téléphones et URLs."
   ]
  },
  {
   "cell_type": "code",
   "execution_count": null,
   "id": "c32fcfd2",
   "metadata": {},
   "outputs": [],
   "source": [
    "# TODO : Regex pour emails\n",
    "# TODO : Regex pour téléphones\n",
    "# TODO : Regex pour URLs"
   ]
  },
  {
   "cell_type": "markdown",
   "id": "4520bf6c",
   "metadata": {},
   "source": [
    "### Affichage des résultats"
   ]
  },
  {
   "cell_type": "code",
   "execution_count": null,
   "id": "fe9783fd",
   "metadata": {},
   "outputs": [],
   "source": [
    "# TODO : Afficher les résultats"
   ]
  }
 ],
 "metadata": {
  "kernelspec": {
   "display_name": "Python 3",
   "language": "python",
   "name": "python3"
  },
  "language_info": {
   "name": "python",
   "version": "3.8"
  }
 },
 "nbformat": 4,
 "nbformat_minor": 5
}
